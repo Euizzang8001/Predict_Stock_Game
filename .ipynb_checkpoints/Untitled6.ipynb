{
 "cells": [
  {
   "cell_type": "code",
   "execution_count": 1,
   "id": "e7856fbb",
   "metadata": {},
   "outputs": [
    {
     "name": "stdout",
     "output_type": "stream",
     "text": [
      "Requirement already satisfied: pykrx in c:\\users\\qkrdm\\anaconda3\\lib\\site-packages (1.0.45)\n",
      "Requirement already satisfied: requests in c:\\users\\qkrdm\\anaconda3\\lib\\site-packages (from pykrx) (2.31.0)\n",
      "Requirement already satisfied: pandas in c:\\users\\qkrdm\\anaconda3\\lib\\site-packages (from pykrx) (1.5.3)\n",
      "Requirement already satisfied: datetime in c:\\users\\qkrdm\\anaconda3\\lib\\site-packages (from pykrx) (5.2)\n",
      "Requirement already satisfied: numpy in c:\\users\\qkrdm\\anaconda3\\lib\\site-packages (from pykrx) (1.24.3)\n",
      "Requirement already satisfied: xlrd in c:\\users\\qkrdm\\anaconda3\\lib\\site-packages (from pykrx) (2.0.1)\n",
      "Requirement already satisfied: deprecated in c:\\users\\qkrdm\\anaconda3\\lib\\site-packages (from pykrx) (1.2.14)\n",
      "Requirement already satisfied: multipledispatch in c:\\users\\qkrdm\\anaconda3\\lib\\site-packages (from pykrx) (0.6.0)\n",
      "Requirement already satisfied: matplotlib in c:\\users\\qkrdm\\anaconda3\\lib\\site-packages (from pykrx) (3.7.1)\n",
      "Requirement already satisfied: zope.interface in c:\\users\\qkrdm\\anaconda3\\lib\\site-packages (from datetime->pykrx) (5.4.0)\n",
      "Requirement already satisfied: pytz in c:\\users\\qkrdm\\anaconda3\\lib\\site-packages (from datetime->pykrx) (2022.7)\n",
      "Requirement already satisfied: wrapt<2,>=1.10 in c:\\users\\qkrdm\\anaconda3\\lib\\site-packages (from deprecated->pykrx) (1.14.1)\n",
      "Requirement already satisfied: contourpy>=1.0.1 in c:\\users\\qkrdm\\anaconda3\\lib\\site-packages (from matplotlib->pykrx) (1.0.5)\n",
      "Requirement already satisfied: cycler>=0.10 in c:\\users\\qkrdm\\anaconda3\\lib\\site-packages (from matplotlib->pykrx) (0.11.0)\n",
      "Requirement already satisfied: fonttools>=4.22.0 in c:\\users\\qkrdm\\anaconda3\\lib\\site-packages (from matplotlib->pykrx) (4.25.0)\n",
      "Requirement already satisfied: kiwisolver>=1.0.1 in c:\\users\\qkrdm\\anaconda3\\lib\\site-packages (from matplotlib->pykrx) (1.4.4)\n",
      "Requirement already satisfied: packaging>=20.0 in c:\\users\\qkrdm\\anaconda3\\lib\\site-packages (from matplotlib->pykrx) (23.0)\n",
      "Requirement already satisfied: pillow>=6.2.0 in c:\\users\\qkrdm\\anaconda3\\lib\\site-packages (from matplotlib->pykrx) (9.4.0)\n",
      "Requirement already satisfied: pyparsing>=2.3.1 in c:\\users\\qkrdm\\anaconda3\\lib\\site-packages (from matplotlib->pykrx) (3.0.9)\n",
      "Requirement already satisfied: python-dateutil>=2.7 in c:\\users\\qkrdm\\anaconda3\\lib\\site-packages (from matplotlib->pykrx) (2.8.2)\n",
      "Requirement already satisfied: six in c:\\users\\qkrdm\\anaconda3\\lib\\site-packages (from multipledispatch->pykrx) (1.16.0)\n",
      "Requirement already satisfied: charset-normalizer<4,>=2 in c:\\users\\qkrdm\\anaconda3\\lib\\site-packages (from requests->pykrx) (2.0.4)\n",
      "Requirement already satisfied: idna<4,>=2.5 in c:\\users\\qkrdm\\anaconda3\\lib\\site-packages (from requests->pykrx) (3.4)\n",
      "Requirement already satisfied: urllib3<3,>=1.21.1 in c:\\users\\qkrdm\\anaconda3\\lib\\site-packages (from requests->pykrx) (1.26.16)\n",
      "Requirement already satisfied: certifi>=2017.4.17 in c:\\users\\qkrdm\\anaconda3\\lib\\site-packages (from requests->pykrx) (2023.7.22)\n",
      "Requirement already satisfied: setuptools in c:\\users\\qkrdm\\anaconda3\\lib\\site-packages (from zope.interface->datetime->pykrx) (68.0.0)\n",
      "Note: you may need to restart the kernel to use updated packages.\n"
     ]
    }
   ],
   "source": [
    "pip install pykrx"
   ]
  },
  {
   "cell_type": "code",
   "execution_count": 2,
   "id": "5284d262",
   "metadata": {},
   "outputs": [
    {
     "name": "stdout",
     "output_type": "stream",
     "text": [
      "Requirement already satisfied: tensorflow in c:\\users\\qkrdm\\anaconda3\\lib\\site-packages (2.13.0)\n",
      "Requirement already satisfied: tensorflow-intel==2.13.0 in c:\\users\\qkrdm\\anaconda3\\lib\\site-packages (from tensorflow) (2.13.0)\n",
      "Requirement already satisfied: absl-py>=1.0.0 in c:\\users\\qkrdm\\anaconda3\\lib\\site-packages (from tensorflow-intel==2.13.0->tensorflow) (2.0.0)\n",
      "Requirement already satisfied: astunparse>=1.6.0 in c:\\users\\qkrdm\\anaconda3\\lib\\site-packages (from tensorflow-intel==2.13.0->tensorflow) (1.6.3)\n",
      "Requirement already satisfied: flatbuffers>=23.1.21 in c:\\users\\qkrdm\\anaconda3\\lib\\site-packages (from tensorflow-intel==2.13.0->tensorflow) (23.5.26)\n",
      "Requirement already satisfied: gast<=0.4.0,>=0.2.1 in c:\\users\\qkrdm\\anaconda3\\lib\\site-packages (from tensorflow-intel==2.13.0->tensorflow) (0.4.0)\n",
      "Requirement already satisfied: google-pasta>=0.1.1 in c:\\users\\qkrdm\\anaconda3\\lib\\site-packages (from tensorflow-intel==2.13.0->tensorflow) (0.2.0)\n",
      "Requirement already satisfied: h5py>=2.9.0 in c:\\users\\qkrdm\\anaconda3\\lib\\site-packages (from tensorflow-intel==2.13.0->tensorflow) (3.7.0)\n",
      "Requirement already satisfied: libclang>=13.0.0 in c:\\users\\qkrdm\\anaconda3\\lib\\site-packages (from tensorflow-intel==2.13.0->tensorflow) (16.0.6)\n",
      "Requirement already satisfied: numpy<=1.24.3,>=1.22 in c:\\users\\qkrdm\\anaconda3\\lib\\site-packages (from tensorflow-intel==2.13.0->tensorflow) (1.24.3)\n",
      "Requirement already satisfied: opt-einsum>=2.3.2 in c:\\users\\qkrdm\\anaconda3\\lib\\site-packages (from tensorflow-intel==2.13.0->tensorflow) (3.3.0)\n",
      "Requirement already satisfied: packaging in c:\\users\\qkrdm\\anaconda3\\lib\\site-packages (from tensorflow-intel==2.13.0->tensorflow) (23.0)\n",
      "Requirement already satisfied: protobuf!=4.21.0,!=4.21.1,!=4.21.2,!=4.21.3,!=4.21.4,!=4.21.5,<5.0.0dev,>=3.20.3 in c:\\users\\qkrdm\\anaconda3\\lib\\site-packages (from tensorflow-intel==2.13.0->tensorflow) (4.24.3)\n",
      "Requirement already satisfied: setuptools in c:\\users\\qkrdm\\anaconda3\\lib\\site-packages (from tensorflow-intel==2.13.0->tensorflow) (68.0.0)\n",
      "Requirement already satisfied: six>=1.12.0 in c:\\users\\qkrdm\\anaconda3\\lib\\site-packages (from tensorflow-intel==2.13.0->tensorflow) (1.16.0)\n",
      "Requirement already satisfied: termcolor>=1.1.0 in c:\\users\\qkrdm\\anaconda3\\lib\\site-packages (from tensorflow-intel==2.13.0->tensorflow) (2.3.0)\n",
      "Requirement already satisfied: typing-extensions<4.6.0,>=3.6.6 in c:\\users\\qkrdm\\anaconda3\\lib\\site-packages (from tensorflow-intel==2.13.0->tensorflow) (4.5.0)\n",
      "Requirement already satisfied: wrapt>=1.11.0 in c:\\users\\qkrdm\\anaconda3\\lib\\site-packages (from tensorflow-intel==2.13.0->tensorflow) (1.14.1)\n",
      "Requirement already satisfied: grpcio<2.0,>=1.24.3 in c:\\users\\qkrdm\\anaconda3\\lib\\site-packages (from tensorflow-intel==2.13.0->tensorflow) (1.58.0)\n",
      "Requirement already satisfied: tensorboard<2.14,>=2.13 in c:\\users\\qkrdm\\anaconda3\\lib\\site-packages (from tensorflow-intel==2.13.0->tensorflow) (2.13.0)\n",
      "Requirement already satisfied: tensorflow-estimator<2.14,>=2.13.0 in c:\\users\\qkrdm\\anaconda3\\lib\\site-packages (from tensorflow-intel==2.13.0->tensorflow) (2.13.0)\n",
      "Requirement already satisfied: keras<2.14,>=2.13.1 in c:\\users\\qkrdm\\anaconda3\\lib\\site-packages (from tensorflow-intel==2.13.0->tensorflow) (2.13.1)\n",
      "Requirement already satisfied: tensorflow-io-gcs-filesystem>=0.23.1 in c:\\users\\qkrdm\\anaconda3\\lib\\site-packages (from tensorflow-intel==2.13.0->tensorflow) (0.31.0)\n",
      "Requirement already satisfied: wheel<1.0,>=0.23.0 in c:\\users\\qkrdm\\anaconda3\\lib\\site-packages (from astunparse>=1.6.0->tensorflow-intel==2.13.0->tensorflow) (0.38.4)\n",
      "Requirement already satisfied: google-auth<3,>=1.6.3 in c:\\users\\qkrdm\\anaconda3\\lib\\site-packages (from tensorboard<2.14,>=2.13->tensorflow-intel==2.13.0->tensorflow) (2.23.0)\n",
      "Requirement already satisfied: google-auth-oauthlib<1.1,>=0.5 in c:\\users\\qkrdm\\anaconda3\\lib\\site-packages (from tensorboard<2.14,>=2.13->tensorflow-intel==2.13.0->tensorflow) (1.0.0)\n",
      "Requirement already satisfied: markdown>=2.6.8 in c:\\users\\qkrdm\\anaconda3\\lib\\site-packages (from tensorboard<2.14,>=2.13->tensorflow-intel==2.13.0->tensorflow) (3.4.1)\n",
      "Requirement already satisfied: requests<3,>=2.21.0 in c:\\users\\qkrdm\\anaconda3\\lib\\site-packages (from tensorboard<2.14,>=2.13->tensorflow-intel==2.13.0->tensorflow) (2.31.0)\n",
      "Requirement already satisfied: tensorboard-data-server<0.8.0,>=0.7.0 in c:\\users\\qkrdm\\anaconda3\\lib\\site-packages (from tensorboard<2.14,>=2.13->tensorflow-intel==2.13.0->tensorflow) (0.7.1)\n",
      "Requirement already satisfied: werkzeug>=1.0.1 in c:\\users\\qkrdm\\anaconda3\\lib\\site-packages (from tensorboard<2.14,>=2.13->tensorflow-intel==2.13.0->tensorflow) (2.2.3)\n",
      "Requirement already satisfied: cachetools<6.0,>=2.0.0 in c:\\users\\qkrdm\\anaconda3\\lib\\site-packages (from google-auth<3,>=1.6.3->tensorboard<2.14,>=2.13->tensorflow-intel==2.13.0->tensorflow) (5.3.1)\n",
      "Requirement already satisfied: pyasn1-modules>=0.2.1 in c:\\users\\qkrdm\\anaconda3\\lib\\site-packages (from google-auth<3,>=1.6.3->tensorboard<2.14,>=2.13->tensorflow-intel==2.13.0->tensorflow) (0.2.8)\n",
      "Requirement already satisfied: rsa<5,>=3.1.4 in c:\\users\\qkrdm\\anaconda3\\lib\\site-packages (from google-auth<3,>=1.6.3->tensorboard<2.14,>=2.13->tensorflow-intel==2.13.0->tensorflow) (4.9)\n",
      "Requirement already satisfied: urllib3<2.0 in c:\\users\\qkrdm\\anaconda3\\lib\\site-packages (from google-auth<3,>=1.6.3->tensorboard<2.14,>=2.13->tensorflow-intel==2.13.0->tensorflow) (1.26.16)\n",
      "Requirement already satisfied: requests-oauthlib>=0.7.0 in c:\\users\\qkrdm\\anaconda3\\lib\\site-packages (from google-auth-oauthlib<1.1,>=0.5->tensorboard<2.14,>=2.13->tensorflow-intel==2.13.0->tensorflow) (1.3.1)\n",
      "Requirement already satisfied: charset-normalizer<4,>=2 in c:\\users\\qkrdm\\anaconda3\\lib\\site-packages (from requests<3,>=2.21.0->tensorboard<2.14,>=2.13->tensorflow-intel==2.13.0->tensorflow) (2.0.4)\n",
      "Requirement already satisfied: idna<4,>=2.5 in c:\\users\\qkrdm\\anaconda3\\lib\\site-packages (from requests<3,>=2.21.0->tensorboard<2.14,>=2.13->tensorflow-intel==2.13.0->tensorflow) (3.4)\n",
      "Requirement already satisfied: certifi>=2017.4.17 in c:\\users\\qkrdm\\anaconda3\\lib\\site-packages (from requests<3,>=2.21.0->tensorboard<2.14,>=2.13->tensorflow-intel==2.13.0->tensorflow) (2023.7.22)\n",
      "Requirement already satisfied: MarkupSafe>=2.1.1 in c:\\users\\qkrdm\\anaconda3\\lib\\site-packages (from werkzeug>=1.0.1->tensorboard<2.14,>=2.13->tensorflow-intel==2.13.0->tensorflow) (2.1.1)\n",
      "Requirement already satisfied: pyasn1<0.5.0,>=0.4.6 in c:\\users\\qkrdm\\anaconda3\\lib\\site-packages (from pyasn1-modules>=0.2.1->google-auth<3,>=1.6.3->tensorboard<2.14,>=2.13->tensorflow-intel==2.13.0->tensorflow) (0.4.8)\n",
      "Requirement already satisfied: oauthlib>=3.0.0 in c:\\users\\qkrdm\\anaconda3\\lib\\site-packages (from requests-oauthlib>=0.7.0->google-auth-oauthlib<1.1,>=0.5->tensorboard<2.14,>=2.13->tensorflow-intel==2.13.0->tensorflow) (3.2.2)\n",
      "Note: you may need to restart the kernel to use updated packages.\n"
     ]
    }
   ],
   "source": [
    "pip install tensorflow"
   ]
  },
  {
   "cell_type": "code",
   "execution_count": 59,
   "id": "1f057db8",
   "metadata": {},
   "outputs": [],
   "source": [
    "import numpy as np\n",
    "import pandas as pd\n",
    "from tensorflow.keras.models import Sequential\n",
    "from tensorflow.keras.layers import LSTM, Dense\n",
    "from tensorflow.keras.optimizers import Adam\n",
    "from sklearn.preprocessing import StandardScaler\n",
    "from datetime import datetime"
   ]
  },
  {
   "cell_type": "code",
   "execution_count": 60,
   "id": "650b475e",
   "metadata": {},
   "outputs": [
    {
     "name": "stdout",
     "output_type": "stream",
     "text": [
      "2023-11-06 기준 nexon 주가\n"
     ]
    }
   ],
   "source": [
    "dt_now = str(datetime.now().date())\n",
    "print(f'{dt_now} 기준 nexon 주가')\n",
    "dt_now = ''.join(c for c in dt_now if c not in '-')"
   ]
  },
  {
   "cell_type": "code",
   "execution_count": 61,
   "id": "0cf2e6df",
   "metadata": {},
   "outputs": [
    {
     "name": "stdout",
     "output_type": "stream",
     "text": [
      "               시가     고가     저가     종가     거래량       등락률\n",
      "날짜                                                      \n",
      "2023-10-31  15240  15510  14900  15000  238570 -1.250823\n",
      "2023-11-01  15130  15300  14950  15060  145564  0.400000\n",
      "2023-11-02  15340  15500  15130  15400  196828  2.257636\n",
      "2023-11-03  15570  16000  15370  15890  385768  3.181818\n",
      "2023-11-06  16220  16500  15900  16500  487553  3.838892\n"
     ]
    }
   ],
   "source": [
    "from pykrx import stock\n",
    "nexon = stock.get_market_ohlcv(\"20150925\", dt_now, \"225570\")\n",
    "print(nexon.tail())"
   ]
  },
  {
   "cell_type": "code",
   "execution_count": 62,
   "id": "18b5c4df",
   "metadata": {},
   "outputs": [
    {
     "name": "stdout",
     "output_type": "stream",
     "text": [
      "<class 'pandas.core.frame.DataFrame'>\n",
      "DatetimeIndex: 1994 entries, 2015-09-25 to 2023-11-06\n",
      "Data columns (total 6 columns):\n",
      " #   Column  Non-Null Count  Dtype  \n",
      "---  ------  --------------  -----  \n",
      " 0   시가      1994 non-null   int32  \n",
      " 1   고가      1994 non-null   int32  \n",
      " 2   저가      1994 non-null   int32  \n",
      " 3   종가      1994 non-null   int32  \n",
      " 4   거래량     1994 non-null   int32  \n",
      " 5   등락률     1993 non-null   float64\n",
      "dtypes: float64(1), int32(5)\n",
      "memory usage: 70.1 KB\n"
     ]
    }
   ],
   "source": [
    "nexon.info()"
   ]
  },
  {
   "cell_type": "code",
   "execution_count": 63,
   "id": "de19c926",
   "metadata": {},
   "outputs": [
    {
     "data": {
      "text/plain": [
       "DatetimeIndex(['2015-09-25', '2015-09-30', '2015-10-01', '2015-10-02',\n",
       "               '2015-10-05', '2015-10-06', '2015-10-07', '2015-10-08',\n",
       "               '2015-10-12', '2015-10-13',\n",
       "               ...\n",
       "               '2023-10-24', '2023-10-25', '2023-10-26', '2023-10-27',\n",
       "               '2023-10-30', '2023-10-31', '2023-11-01', '2023-11-02',\n",
       "               '2023-11-03', '2023-11-06'],\n",
       "              dtype='datetime64[ns]', name='날짜', length=1994, freq=None)"
      ]
     },
     "execution_count": 63,
     "metadata": {},
     "output_type": "execute_result"
    }
   ],
   "source": [
    "nexon.index = pd.to_datetime(nexon.index)\n",
    "nexon.index"
   ]
  },
  {
   "cell_type": "code",
   "execution_count": 64,
   "id": "597e6388",
   "metadata": {},
   "outputs": [],
   "source": [
    "#LSTM\n",
    "from sklearn.preprocessing import MinMaxScaler\n",
    "from sklearn.model_selection import train_test_split\n",
    "scaler = MinMaxScaler()"
   ]
  },
  {
   "cell_type": "code",
   "execution_count": 65,
   "id": "3687ece9",
   "metadata": {},
   "outputs": [],
   "source": [
    "scaler2 = MinMaxScaler()\n",
    "scaler3 = MinMaxScaler()\n",
    "\n",
    "scale_cols_for_X = ['시가', '고가', '저가', '거래량']\n",
    "scale_cols_for_Y = ['종가']\n",
    "\n",
    "tests = scaler2.fit_transform(nexon[scale_cols_for_X])\n",
    "tests2 = scaler3.fit_transform(nexon[scale_cols_for_Y])\n",
    "\n",
    "X = np.array([tests[i:i+1] for i in range(tests.shape[0]-1)])\n",
    "y = np.array([tests[i+1]for i in range(tests2.shape[0]-1)])\n"
   ]
  },
  {
   "cell_type": "code",
   "execution_count": 66,
   "id": "056b6ebb",
   "metadata": {},
   "outputs": [],
   "source": [
    "from sklearn.model_selection import train_test_split\n",
    "x_train, x_valid, y_train, y_valid = train_test_split(X, y, test_size = 0.2)"
   ]
  },
  {
   "cell_type": "code",
   "execution_count": 67,
   "id": "a30f2d32",
   "metadata": {},
   "outputs": [],
   "source": [
    "import tensorflow as tf\n",
    "X_model_input = tf.keras.layers.Input(shape=(X.shape[1], X.shape[2]))\n",
    "X_model_output = tf.keras.layers.LSTM(32, activation='relu', return_sequences=False)(X_model_input)\n",
    "X_model_output = tf.keras.layers.Dense(1, activation='linear')(X_model_output)\n",
    "X_model_output = tf.keras.layers.Dense(1)(X_model_output)\n"
   ]
  },
  {
   "cell_type": "code",
   "execution_count": 68,
   "id": "a93dbfbe",
   "metadata": {},
   "outputs": [
    {
     "name": "stdout",
     "output_type": "stream",
     "text": [
      "Epoch 1/100\n",
      "1594/1594 [==============================] - 5s 2ms/step - loss: 0.0406 - acc: 0.0609 - val_loss: 0.0349 - val_acc: 0.0533\n",
      "Epoch 2/100\n",
      "1594/1594 [==============================] - 3s 2ms/step - loss: 0.0326 - acc: 0.0609 - val_loss: 0.0346 - val_acc: 0.0533\n",
      "Epoch 3/100\n",
      "1594/1594 [==============================] - 3s 2ms/step - loss: 0.0325 - acc: 0.0609 - val_loss: 0.0346 - val_acc: 0.0533\n",
      "Epoch 4/100\n",
      "1594/1594 [==============================] - 3s 2ms/step - loss: 0.0324 - acc: 0.0609 - val_loss: 0.0352 - val_acc: 0.0508\n",
      "Epoch 5/100\n",
      "1594/1594 [==============================] - 3s 2ms/step - loss: 0.0324 - acc: 0.0609 - val_loss: 0.0345 - val_acc: 0.0533\n",
      "Epoch 6/100\n",
      "1594/1594 [==============================] - 3s 2ms/step - loss: 0.0324 - acc: 0.0609 - val_loss: 0.0346 - val_acc: 0.0533\n",
      "Epoch 7/100\n",
      "1594/1594 [==============================] - 3s 2ms/step - loss: 0.0324 - acc: 0.0609 - val_loss: 0.0345 - val_acc: 0.0533\n",
      "Epoch 8/100\n",
      "1594/1594 [==============================] - 3s 2ms/step - loss: 0.0324 - acc: 0.0609 - val_loss: 0.0373 - val_acc: 0.0508\n",
      "Epoch 9/100\n",
      "1594/1594 [==============================] - 3s 2ms/step - loss: 0.0324 - acc: 0.0609 - val_loss: 0.0345 - val_acc: 0.0533\n",
      "Epoch 10/100\n",
      "1594/1594 [==============================] - 3s 2ms/step - loss: 0.0324 - acc: 0.0609 - val_loss: 0.0345 - val_acc: 0.0533\n",
      "Epoch 11/100\n",
      "1594/1594 [==============================] - 3s 2ms/step - loss: 0.0324 - acc: 0.0609 - val_loss: 0.0345 - val_acc: 0.0533\n",
      "Epoch 12/100\n",
      "1594/1594 [==============================] - 3s 2ms/step - loss: 0.0324 - acc: 0.0609 - val_loss: 0.0345 - val_acc: 0.0533\n"
     ]
    },
    {
     "data": {
      "text/plain": [
       "<keras.src.callbacks.History at 0x19e0ec28e50>"
      ]
     },
     "execution_count": 68,
     "metadata": {},
     "output_type": "execute_result"
    }
   ],
   "source": [
    "result_model = tf.keras.Model(inputs=X_model_input, outputs=X_model_output)\n",
    "\n",
    "result_model.compile(optimizer='adam', loss='mean_squared_error', metrics=['acc'])\n",
    "\n",
    "early_stop = tf.keras.callbacks.EarlyStopping(monitor='val_loss', patience=3)\n",
    "result_model.fit(x_train, y_train, batch_size = 1, epochs=100, validation_data=(x_valid, y_valid), callbacks=[early_stop])                "
   ]
  },
  {
   "cell_type": "code",
   "execution_count": 69,
   "id": "58975367",
   "metadata": {},
   "outputs": [
    {
     "name": "stderr",
     "output_type": "stream",
     "text": [
      "C:\\Users\\qkrdm\\anaconda3\\Lib\\site-packages\\sklearn\\base.py:464: UserWarning: X does not have valid feature names, but MinMaxScaler was fitted with feature names\n",
      "  warnings.warn(\n"
     ]
    },
    {
     "name": "stdout",
     "output_type": "stream",
     "text": [
      "1/1 [==============================] - 0s 178ms/step\n",
      "넥슨!\n",
      "오늘의 예측 종가는?:\n",
      "15332.54원\n",
      "오늘의 진짜 종가!:\n",
      "날짜\n",
      "2023-11-06    16500\n",
      "Name: 종가, dtype: int32\n"
     ]
    }
   ],
   "source": [
    "import datetime\n",
    "a = scaler2.transform([[16220, 16370, 15900, 365231]])\n",
    "test = result_model.predict(np.array([a]))\n",
    "today_pred = scaler3.inverse_transform(test)\n",
    "current_time = datetime.datetime.now()\n",
    "today_nexon = stock.get_market_ohlcv(dt_now, dt_now, \"225570\")\n",
    "today_close = today_nexon[\"종가\"]\n",
    "today_pred = \"{:.2f}\".format(today_pred[0][0])\n",
    "if current_time.hour >=15:\n",
    "    print(f'넥슨!\\n오늘의 예측 종가는?:\\n{today_pred}원\\n오늘의 진짜 종가!:\\n{today_close}')"
   ]
  },
  {
   "cell_type": "code",
   "execution_count": null,
   "id": "9de6e868",
   "metadata": {},
   "outputs": [],
   "source": []
  },
  {
   "cell_type": "code",
   "execution_count": null,
   "id": "bec10e51",
   "metadata": {},
   "outputs": [],
   "source": []
  },
  {
   "cell_type": "code",
   "execution_count": null,
   "id": "74e165ad",
   "metadata": {},
   "outputs": [],
   "source": []
  },
  {
   "cell_type": "code",
   "execution_count": null,
   "id": "97928751",
   "metadata": {},
   "outputs": [],
   "source": []
  }
 ],
 "metadata": {
  "kernelspec": {
   "display_name": "Python 3 (ipykernel)",
   "language": "python",
   "name": "python3"
  },
  "language_info": {
   "codemirror_mode": {
    "name": "ipython",
    "version": 3
   },
   "file_extension": ".py",
   "mimetype": "text/x-python",
   "name": "python",
   "nbconvert_exporter": "python",
   "pygments_lexer": "ipython3",
   "version": "3.11.4"
  }
 },
 "nbformat": 4,
 "nbformat_minor": 5
}
